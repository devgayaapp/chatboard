{
 "cells": [
  {
   "cell_type": "markdown",
   "metadata": {},
   "source": [
    "# tools"
   ]
  },
  {
   "cell_type": "code",
   "execution_count": null,
   "metadata": {},
   "outputs": [],
   "source": [
    "tool_response.conversation"
   ]
  },
  {
   "cell_type": "code",
   "execution_count": null,
   "metadata": {},
   "outputs": [],
   "source": [
    "\n",
    "from components.etl.chat_prompt import ChatPrompt\n",
    "\n",
    "\n",
    "prompt = ChatPrompt(    \n",
    "    name=\"completion\",    \n",
    ")"
   ]
  },
  {
   "cell_type": "code",
   "execution_count": null,
   "metadata": {},
   "outputs": [],
   "source": [
    "\n",
    "\n",
    "\n",
    "from components.etl.chat_agent import ChatAgent\n",
    "from dataclasses import Field\n",
    "from langchain_core.pydantic_v1 import BaseModel, Field\n",
    "from components.etl.chat_prompt import ChatPrompt\n",
    "\n",
    "from langchain_core.utils.function_calling import convert_to_openai_tool\n",
    "\n",
    "from components.etl.chat_prompt import get_tool_scheduler_prompt\n",
    "\n",
    "prompt = ChatPrompt(\n",
    "    \"experimental/pirate\",\n",
    "    name=\"pirate_prompt\",    \n",
    "    )\n",
    "\n",
    "\n",
    "await prompt(prompt=\"Hello, how are you?\")"
   ]
  },
  {
   "cell_type": "markdown",
   "metadata": {},
   "source": [
    "# agent"
   ]
  },
  {
   "cell_type": "code",
   "execution_count": null,
   "metadata": {},
   "outputs": [],
   "source": [
    "\n",
    "\n",
    "\n",
    "\n",
    "from components.etl.chat_agent import ChatAgent\n",
    "from dataclasses import Field\n",
    "from langchain_core.pydantic_v1 import BaseModel, Field\n",
    "from components.etl.chat_prompt import ChatPrompt\n",
    "\n",
    "from langchain_core.utils.function_calling import convert_to_openai_tool\n",
    "\n",
    "from components.etl.chat_prompt import get_tool_scheduler_prompt\n",
    "\n",
    "prompt = ChatPrompt(\n",
    "    \"experimental/pirate\",\n",
    "    name=\"pirate_prompt\",    \n",
    "    )\n",
    "\n",
    "\n",
    "class SwordTool(BaseModel):\n",
    "    \"\"\"this is a sword that the pirate can use to fight his enemies.\"\"\"\n",
    "    draw: bool = Field(..., description=\"true or false if the sword is drawn or not\")\n",
    "    sharp: bool = Field(..., description=\"true or false if the sword is sharp or not\")\n",
    "    length: float = Field(..., description=\"the length of the sword\")\n",
    "\n",
    "\n",
    "class GunTool(BaseModel):\n",
    "    \"\"\"this is a gun that the pirate can use to fight his enemies.\"\"\"\n",
    "    loaded: bool = Field(..., description=\"true or false if the gun is loaded or not\")\n",
    "    caliber: float = Field(..., description=\"the caliber of the gun\")\n",
    "    range: float = Field(..., description=\"the range of the gun\")\n",
    "\n",
    "\n",
    "class OfferMission(BaseModel):\n",
    "    \"\"\"this is a mission that the pirate can offer to the other pirates.\"\"\"\n",
    "    mission: str = Field(..., description=\"the mission that the pirate wants to offer to the other pirates\")\n",
    "    reward: float = Field(..., description=\"the reward that the pirate wants to offer to the other pirates\")\n",
    "\n",
    "\n",
    "class OfferDrink(BaseModel):\n",
    "    \"\"\"this is a drink that the pirate can offer to the other pirates.\"\"\"\n",
    "    drink: str = Field(..., description=\"the drink that the pirate wants to offer to the other pirates\")\n",
    "    price: float = Field(..., description=\"the price that the pirate wants to offer to the other pirates\")\n",
    "\n",
    "\n",
    "\n",
    "# tools = [get_tool_scheduler_prompt(convert_to_openai_tool(tool)) \n",
    "# for tool in [SwordTool, GunTool]]\n",
    "\n",
    "\n",
    "agent = ChatAgent(\n",
    "    \"experimental/pirate_agent\", \n",
    "    name=\"pirate_agent\",\n",
    "    tools=[SwordTool, GunTool, OfferMission, OfferDrink],\n",
    ")\n",
    "\n",
    "\n",
    "state = {\n",
    "    \"pirate\":{\n",
    "        \"health\": 100,\n",
    "        \"money\": 100,\n",
    "    },\n",
    "    \"visitor\":{\n",
    "        \"health\": 100,\n",
    "        \"money\": 1000,\n",
    "        \"weapon\": \"sword\",\n",
    "    }\n",
    "}"
   ]
  },
  {
   "cell_type": "code",
   "execution_count": null,
   "metadata": {},
   "outputs": [],
   "source": [
    "message = \"hello there mate!\"\n",
    "\n",
    "agent_response = await agent.next_step(\n",
    "    message=message,\n",
    "    **state\n",
    ")\n",
    "# print(\"pirate:\", prompt_response.conversation[-2].content)\n",
    "# print(\"action\", prompt_response.value)\n",
    "# assert len(agent.conversation) == 3\n",
    "agent_response.conversation"
   ]
  },
  {
   "cell_type": "code",
   "execution_count": null,
   "metadata": {},
   "outputs": [],
   "source": [
    "from components.etl.conversation import ConversationRag\n",
    "\n",
    "conv_rag = ConversationRag(\"pirate\")\n"
   ]
  },
  {
   "cell_type": "code",
   "execution_count": null,
   "metadata": {},
   "outputs": [],
   "source": [
    "examples = await conv_rag.similarity(agent_response.conversation)\n",
    "examples[0]"
   ]
  },
  {
   "cell_type": "code",
   "execution_count": null,
   "metadata": {},
   "outputs": [],
   "source": [
    "examples[0]"
   ]
  },
  {
   "cell_type": "code",
   "execution_count": null,
   "metadata": {},
   "outputs": [],
   "source": [
    "message = \"I am here to kill you!\"\n",
    "\n",
    "agent_response = await agent.next_step(\n",
    "    message=message,\n",
    "    **state\n",
    ")\n",
    "# print(\"pirate:\", pirate_output)\n",
    "# print(\"action\", pirate_action)\n",
    "agent_response.conversation"
   ]
  },
  {
   "cell_type": "code",
   "execution_count": null,
   "metadata": {},
   "outputs": [],
   "source": [
    "message = \"is was a joke! just give me a mission\"\n",
    "\n",
    "agent_response = await agent.next_step(\n",
    "    message=message,\n",
    "    **state\n",
    ")\n",
    "# print(\"pirate:\", pirate_output)\n",
    "# print(\"action\", pirate_action)\n",
    "agent_response.conversation"
   ]
  },
  {
   "cell_type": "code",
   "execution_count": null,
   "metadata": {},
   "outputs": [],
   "source": [
    "await agent.prompt.with_tools(\n",
    "    # prompt=pirate_output.value,\n",
    "    # prompt=\"*SwordTool: {draw: true, sharp: true, length: 'long'}*\",\n",
    "    prompt=\"\"\"pirate: \"Avast ye scurvy dog! Ye be talkin' bold words to a pirate! Draw me sword! Let's see if ye be able to back up yer threats! Arrr! SwordTool: draw: true, sharp: true, length: 32}\"\"\",\n",
    "    tools=agent.tools\n",
    ")   "
   ]
  },
  {
   "cell_type": "markdown",
   "metadata": {},
   "source": [
    "# RAG"
   ]
  },
  {
   "cell_type": "code",
   "execution_count": null,
   "metadata": {},
   "outputs": [],
   "source": [
    "\n",
    "from components.etl.conversation import LangsmithConversationDataset\n",
    "\n",
    "\n",
    "dataset = LangsmithConversationDataset(\"pirate\")\n",
    "\n",
    "conversation_list = dataset.get_records(is_agent=True)"
   ]
  },
  {
   "cell_type": "code",
   "execution_count": null,
   "metadata": {},
   "outputs": [],
   "source": [
    "conversation_list[0]"
   ]
  },
  {
   "cell_type": "code",
   "execution_count": null,
   "metadata": {},
   "outputs": [],
   "source": [
    "from components.etl.conversation import ConversationRag\n",
    "\n",
    "conv_rag = ConversationRag(\"pirate\")"
   ]
  },
  {
   "cell_type": "code",
   "execution_count": null,
   "metadata": {},
   "outputs": [],
   "source": [
    "await conv_rag.add_conversation_list(conversation_list)"
   ]
  },
  {
   "cell_type": "code",
   "execution_count": null,
   "metadata": {},
   "outputs": [],
   "source": [
    "examples = await conv_rag.get_many()\n",
    "examples"
   ]
  },
  {
   "cell_type": "code",
   "execution_count": null,
   "metadata": {},
   "outputs": [],
   "source": [
    "examples[0].metadata"
   ]
  },
  {
   "cell_type": "code",
   "execution_count": null,
   "metadata": {},
   "outputs": [],
   "source": [
    "\n",
    "\n",
    "from components.etl.conversation import RagConversationVectorizer, ConversationRagValue\n",
    "from components.etl.rag_manager import RagVectorSpace, RagVector\n",
    "\n",
    "rag_vectorizer = RagConversationVectorizer()\n",
    "rag_space = RagVectorSpace(\"pirate\", rag_vectorizer, ConversationRagValue)\n",
    "\n",
    "# await rag_space.get_many()\n"
   ]
  },
  {
   "cell_type": "code",
   "execution_count": null,
   "metadata": {},
   "outputs": [],
   "source": [
    "res = await rag_space.add_many(conversation_list)\n",
    "# res = await rag_space.vectorizer.embed_documents(conversation_list)\n",
    "res"
   ]
  },
  {
   "cell_type": "code",
   "execution_count": null,
   "metadata": {},
   "outputs": [],
   "source": [
    "await rag_space.delete_all()"
   ]
  },
  {
   "cell_type": "markdown",
   "metadata": {},
   "source": [
    "# test prompt RAG"
   ]
  },
  {
   "cell_type": "code",
   "execution_count": null,
   "metadata": {},
   "outputs": [],
   "source": [
    "from components.etl.chat_prompt import ChatPrompt\n",
    "\n",
    "\n",
    "\n",
    "test_segmentizer = ChatPrompt(\n",
    "    \"test_prompts/test_segmentizer\", \n",
    "    name=\"test_segmentizer\", \n",
    "    rag_length=3\n",
    ")\n",
    "\n",
    "# sentence=\"queen Elizabeth II of England, had a networth of 1000000$ in 1967, and had 4 children with prince Philip, duke of edinburgh.\"\n",
    "# sentence = \"the F-16, was invented in the USA in 1974, by General Dynamics.\"\n",
    "sentence = \"the s&p 500 increased by 10% in Q2 of 2020.\"\n",
    "# sentence = \"Adolf Hitler, was the leader of germany, during WW2.\"\n",
    "# sentence = \"Apple is known for the iPhone, iPad, and Macbook.\"\n",
    "# sentence = \"ООН была создана 24 октября 1945 года.\"\n",
    "output = await test_segmentizer(sentence=sentence)\n",
    "\n",
    "output\n"
   ]
  },
  {
   "cell_type": "code",
   "execution_count": null,
   "metadata": {},
   "outputs": [],
   "source": [
    "from components.etl.conversation import ConversationRag, LangsmithConversationDataset\n",
    "\n",
    "\n",
    "segmentizer_rag = ConversationRag(\"test_segmentizer\")\n",
    "dataset = LangsmithConversationDataset(\"test_segmentizer\")\n",
    "\n"
   ]
  },
  {
   "cell_type": "code",
   "execution_count": null,
   "metadata": {},
   "outputs": [],
   "source": [
    "conversation_list = dataset.get_records(is_agent=False)\n",
    "conversation_list"
   ]
  },
  {
   "cell_type": "code",
   "execution_count": null,
   "metadata": {},
   "outputs": [],
   "source": [
    "\n",
    "all_examples = await segmentizer_rag.get_many()\n",
    "\n",
    "# assert len(all_examples) == 0\n",
    "\n",
    "examples_list = conversation_list[:1]\n",
    "\n",
    "add_response = await segmentizer_rag.add_conversation_list(examples_list)\n",
    "\n",
    "assert len(add_response['records']) == len(examples_list)\n",
    "assert add_response['records'][0]['id'] == examples_list[0].id\n",
    "\n",
    "\n",
    "all_examples = await segmentizer_rag.get_many()\n",
    "\n",
    "assert len(all_examples) == 1\n"
   ]
  },
  {
   "cell_type": "code",
   "execution_count": null,
   "metadata": {},
   "outputs": [],
   "source": [
    "\n",
    "# all_examples = await segmentizer_rag.get_many()\n",
    "\n",
    "# # assert len(all_examples) == 0\n",
    "\n",
    "# examples_list = conversation_list\n",
    "\n",
    "# add_response = await segmentizer_rag.add_conversation_list(examples_list)\n",
    "# add_response\n",
    "# assert len(add_response['records']) == len(examples_list)\n",
    "# assert add_response['records'][0]['id'] == examples_list[0].id\n",
    "\n",
    "\n",
    "all_examples = await segmentizer_rag.get_many()\n",
    "\n",
    "assert len(all_examples) == 2\n"
   ]
  },
  {
   "cell_type": "code",
   "execution_count": null,
   "metadata": {},
   "outputs": [],
   "source": [
    "from components.etl.chat_prompt import ChatPrompt\n",
    "\n",
    "\n",
    "\n",
    "test_segmentizer = ChatPrompt(\n",
    "    \"test_prompts/test_segmentizer\", \n",
    "    name=\"test_segmentizer\", \n",
    "    rag_length=3\n",
    ")\n",
    "\n",
    "# sentence=\"queen Elizabeth II of England, had a networth of 1000000$ in 1967, and had 4 children with prince Philip, duke of edinburgh.\"\n",
    "# sentence = \"the F-16, was invented in the USA in 1974, by General Dynamics.\"\n",
    "sentence = \"the s&p 500 increased by 10% in Q2 of 2020.\"\n",
    "# sentence = \"Adolf Hitler, was the leader of germany, during WW2.\"\n",
    "# sentence = \"Apple is known for the iPhone, iPad, and Macbook.\"\n",
    "# sentence = \"ООН была создана 24 октября 1945 года.\"\n",
    "output = await test_segmentizer(sentence=sentence)\n",
    "\n",
    "output\n"
   ]
  },
  {
   "cell_type": "code",
   "execution_count": null,
   "metadata": {},
   "outputs": [],
   "source": [
    "output.examples[0]"
   ]
  },
  {
   "cell_type": "code",
   "execution_count": null,
   "metadata": {},
   "outputs": [],
   "source": [
    "all_examples = await segmentizer_rag.get_many()\n",
    "all_examples"
   ]
  },
  {
   "cell_type": "code",
   "execution_count": null,
   "metadata": {},
   "outputs": [],
   "source": [
    "await segmentizer_rag.delete_all()"
   ]
  },
  {
   "cell_type": "markdown",
   "metadata": {},
   "source": [
    "# streaming "
   ]
  },
  {
   "cell_type": "code",
   "execution_count": null,
   "metadata": {},
   "outputs": [],
   "source": [
    "\n",
    "from components.etl.chat_agent import ChatAgent\n",
    "from dataclasses import Field\n",
    "from langchain_core.pydantic_v1 import BaseModel, Field\n",
    "from components.etl.chat_prompt import ChatPrompt\n",
    "\n",
    "from langchain_core.utils.function_calling import convert_to_openai_tool\n",
    "\n",
    "from components.etl.chat_prompt import get_tool_scheduler_prompt, prompt\n",
    "\n",
    "# prompt = ChatPrompt(\n",
    "#     \"experimental/pirate\",\n",
    "#     name=\"pirate_prompt\",    \n",
    "# )\n",
    "\n",
    "class LinkdinParagraph(BaseModel):\n",
    "    idea: str\n",
    "    paragraph: str\n",
    "\n",
    "# prompt = ChatPrompt(\n",
    "#     \"linkdin_writer/body_paragraph\", \n",
    "#     name=\"pirate_writer\",  \n",
    "#     pydantic_model=LinkdinParagraph\n",
    "#     # prompt=exp_instruction.body_prompt,\n",
    "# )\n",
    "\n",
    "@prompt(\"linkdin_writer/body_paragraph\", pydantic_model=LinkdinParagraph, rag_length=3)\n",
    "async def pirate_writer(content):\n",
    "    return content\n",
    "\n",
    "\n"
   ]
  },
  {
   "cell_type": "code",
   "execution_count": null,
   "metadata": {},
   "outputs": [],
   "source": [
    "await pirate_writer(\n",
    "    \"write me a short paragraph about pirates\",\n",
    "    # name=\"pirate_prompt\",\n",
    "    topic=\"pirates\",\n",
    "    events=[],\n",
    "    \n",
    "    )"
   ]
  },
  {
   "cell_type": "code",
   "execution_count": null,
   "metadata": {},
   "outputs": [],
   "source": [
    "from components.etl.chat_prompt import ChatResponse, ChatChunk\n",
    "\n",
    "async for msg in pirate_writer.stream(\n",
    "    \"write me a short paragraph about pirates\",\n",
    "    topic=\"pirates\",\n",
    "    events=[]\n",
    "    ):\n",
    "\n",
    "    if type(msg) == ChatChunk:\n",
    "        print(msg.content)\n",
    "        print(msg.field)"
   ]
  },
  {
   "cell_type": "code",
   "execution_count": null,
   "metadata": {},
   "outputs": [],
   "source": [
    "'{\"id\": \"chatcmpl-91iIYrQjfSgWKu3ZnfQZiuQpIWq7n\", \"choices\": [{\"finish_reason\": \"stop\", \"index\": 0, \"logprobs\": null, \"message\": {\"content\": \"Idea: Shiver me timbers! Let\\'s dive deep into the thrilling world of pirates and uncover some fascinating facts.\\\\nParagraph: Ahoy mateys! Did ye know that pirates weren\\'t just a bunch of scallywags plundering the high seas for treasure? These swashbucklers actually had their own code of conduct called \\\\\"The Pirate\\'s Code\\\\\" which set out rules for things like how to divvy up loot and how to settle disputes. And it\\'s not all rum and sword fights, some pirates were skilled navigators and strategists, terrorizing the oceans with their cunning tactics. So next time you think of pirates, remember they were more than just eye patches and parrots, they were complex characters navigating a dangerous world.\", \"role\": \"assistant\", \"function_call\": null, \"tool_calls\": null}}], \"created\": 1710195638, \"model\": \"gpt-3.5-turbo-0125\", \"object\": \"chat.completion\", \"system_fingerprint\": \"fp_4f0b692a78\", \"usage\": {\"completion_tokens\": 152, \"prompt_tokens\": 172, \"total_tokens\": 324}}'"
   ]
  },
  {
   "cell_type": "code",
   "execution_count": null,
   "metadata": {},
   "outputs": [],
   "source": [
    "from components.etl.chat_prompt import ChatResponse, ChatChunk\n",
    "\n",
    "async for msg in pirate_writer.stream(\n",
    "    \"write me a short paragraph about pirates\",\n",
    "    topic=\"pirates\",\n",
    "    events=[]\n",
    "    ):\n",
    "\n",
    "    if type(msg) == ChatChunk:\n",
    "        print(msg.content)\n",
    "        print(msg.field)"
   ]
  },
  {
   "cell_type": "code",
   "execution_count": null,
   "metadata": {},
   "outputs": [],
   "source": [
    "msg.value.paragraph"
   ]
  },
  {
   "cell_type": "code",
   "execution_count": null,
   "metadata": {},
   "outputs": [],
   "source": [
    "from components.etl.chat_prompt import ChatChunk, PromptChunkTypes\n",
    "from components.etl.view_agent import AgentChunk, AgentChunkTypes\n",
    "\n",
    "msg = AgentChunk(\n",
    "    msg_type=AgentChunkTypes.AGENT_FINISH,\n",
    "    func=\"unknown_task\",\n",
    "    prompt_chunk=ChatChunk(\n",
    "        value=\"I don't know how to do this task\",\n",
    "        msg_type=PromptChunkTypes.PROMPT_FINISH,\n",
    "    )\n",
    ")\n",
    "\n",
    "\n",
    "msg.json()"
   ]
  }
 ],
 "metadata": {
  "kernelspec": {
   "display_name": "movie-text-env",
   "language": "python",
   "name": "python3"
  },
  "language_info": {
   "codemirror_mode": {
    "name": "ipython",
    "version": 3
   },
   "file_extension": ".py",
   "mimetype": "text/x-python",
   "name": "python",
   "nbconvert_exporter": "python",
   "pygments_lexer": "ipython3",
   "version": "3.10.13"
  }
 },
 "nbformat": 4,
 "nbformat_minor": 2
}
