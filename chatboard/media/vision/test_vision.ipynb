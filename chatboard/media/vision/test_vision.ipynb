{
 "cells": [
  {
   "cell_type": "code",
   "execution_count": null,
   "metadata": {},
   "outputs": [],
   "source": [
    "from components.vision.vision import Vision\n",
    "from components.evaluation.vision_evaluation import data_loader, TEXT, PEOPLE\n",
    "\n",
    "vision = Vision()"
   ]
  },
  {
   "cell_type": "markdown",
   "metadata": {},
   "source": [
    "# test types"
   ]
  },
  {
   "cell_type": "code",
   "execution_count": null,
   "metadata": {},
   "outputs": [],
   "source": [
    "text_img = next(data_loader(TEXT))\n",
    "person_img = next(data_loader(PEOPLE))\n",
    "\n",
    "output = await vision.complete(\"is the image contains a text?\", text_img, bool)\n",
    "print(\"bool\", output)\n",
    "assert output == True\n",
    "output = await vision.complete(\"describe the image\", person_img, str)\n",
    "print(\"str\", output)\n",
    "assert type(output) == str\n",
    "\n",
    "output = await vision.complete(\"what is the number of images?\", text_img, int)\n",
    "print(\"int\", output)\n",
    "assert type(output) == int\n",
    "assert output == 1"
   ]
  },
  {
   "cell_type": "code",
   "execution_count": null,
   "metadata": {},
   "outputs": [],
   "source": []
  }
 ],
 "metadata": {
  "kernelspec": {
   "display_name": "movie-env",
   "language": "python",
   "name": "python3"
  },
  "language_info": {
   "codemirror_mode": {
    "name": "ipython",
    "version": 3
   },
   "file_extension": ".py",
   "mimetype": "text/x-python",
   "name": "python",
   "nbconvert_exporter": "python",
   "pygments_lexer": "ipython3",
   "version": "3.9.16"
  }
 },
 "nbformat": 4,
 "nbformat_minor": 2
}
